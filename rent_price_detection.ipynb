{
  "nbformat": 4,
  "nbformat_minor": 0,
  "metadata": {
    "colab": {
      "provenance": [],
      "mount_file_id": "1VwZOvtiTU0SywZnqbpZdDF2K6-Hg0OPE",
      "authorship_tag": "ABX9TyPky0i2L3emLYV8n7bNL9Ac",
      "include_colab_link": true
    },
    "kernelspec": {
      "name": "python3",
      "display_name": "Python 3"
    },
    "language_info": {
      "name": "python"
    }
  },
  "cells": [
    {
      "cell_type": "markdown",
      "metadata": {
        "id": "view-in-github",
        "colab_type": "text"
      },
      "source": [
        "<a href=\"https://colab.research.google.com/github/Sadhana1108/rent-price-prediction/blob/main/rent_price_detection.ipynb\" target=\"_parent\"><img src=\"https://colab.research.google.com/assets/colab-badge.svg\" alt=\"Open In Colab\"/></a>"
      ]
    },
    {
      "cell_type": "code",
      "execution_count": null,
      "metadata": {
        "id": "WpViuu7RvpKT"
      },
      "outputs": [],
      "source": [
        "#importing libraries\n",
        "import numpy as np\n",
        "import pandas as pd\n",
        "import matplotlib.pyplot as plt\n",
        "%matplotlib inline\n",
        "from sklearn.preprocessing import LabelEncoder\n",
        "from sklearn.model_selection import train_test_split\n",
        "from sklearn.preprocessing import StandardScaler\n",
        "from sklearn.linear_model import LinearRegression\n",
        "from sklearn.ensemble import RandomForestRegressor, GradientBoostingClassifier, GradientBoostingRegressor\n",
        "from sklearn.metrics import r2_score, mean_squared_error\n",
        "import pickle\n",
        "import seaborn as sns\n",
        "from scipy import stats\n",
        "plt.style.use('fivethirtyeight')\n",
        "import warnings\n",
        "warnings.filterwarnings('ignore')"
      ]
    },
    {
      "cell_type": "code",
      "source": [
        "pwd"
      ],
      "metadata": {
        "colab": {
          "base_uri": "https://localhost:8080/",
          "height": 36
        },
        "id": "MkvN72lJxzfM",
        "outputId": "4627d85e-686e-4666-bde4-4455b7879e04"
      },
      "execution_count": null,
      "outputs": [
        {
          "output_type": "execute_result",
          "data": {
            "text/plain": [
              "'/content'"
            ],
            "application/vnd.google.colaboratory.intrinsic+json": {
              "type": "string"
            }
          },
          "metadata": {},
          "execution_count": 2
        }
      ]
    },
    {
      "cell_type": "code",
      "source": [
        "ls"
      ],
      "metadata": {
        "colab": {
          "base_uri": "https://localhost:8080/"
        },
        "id": "1LnVru2b05b8",
        "outputId": "f0b27ad2-198d-4c1a-8f2b-39ac8cd48d8a"
      },
      "execution_count": null,
      "outputs": [
        {
          "output_type": "stream",
          "name": "stdout",
          "text": [
            "\u001b[0m\u001b[01;34mdrive\u001b[0m/  \u001b[01;34msample_data\u001b[0m/\n"
          ]
        }
      ]
    },
    {
      "cell_type": "code",
      "source": [
        "from google.colab import drive\n",
        "drive.mount('/content/drive')"
      ],
      "metadata": {
        "colab": {
          "base_uri": "https://localhost:8080/"
        },
        "id": "9FS-HZy-07Cw",
        "outputId": "33c3a0b2-b775-499d-94a0-d01cbffc9462"
      },
      "execution_count": null,
      "outputs": [
        {
          "output_type": "stream",
          "name": "stdout",
          "text": [
            "Drive already mounted at /content/drive; to attempt to forcibly remount, call drive.mount(\"/content/drive\", force_remount=True).\n"
          ]
        }
      ]
    },
    {
      "cell_type": "code",
      "source": [
        "cd /content/drive/MyDrive/99acres_data.csv"
      ],
      "metadata": {
        "colab": {
          "base_uri": "https://localhost:8080/"
        },
        "id": "38GCyv9A1Fb9",
        "outputId": "6c2217be-c8c1-42a2-9533-506d9b679eaa"
      },
      "execution_count": null,
      "outputs": [
        {
          "output_type": "stream",
          "name": "stdout",
          "text": [
            "[Errno 20] Not a directory: '/content/drive/MyDrive/99acres_data.csv'\n",
            "/content\n"
          ]
        }
      ]
    },
    {
      "cell_type": "code",
      "source": [
        "ls"
      ],
      "metadata": {
        "colab": {
          "base_uri": "https://localhost:8080/"
        },
        "id": "d35Ju_Jy2X0g",
        "outputId": "071563fe-0a84-45fc-eb2c-6458b856feff"
      },
      "execution_count": null,
      "outputs": [
        {
          "output_type": "stream",
          "name": "stdout",
          "text": [
            "\u001b[0m\u001b[01;34mdrive\u001b[0m/  \u001b[01;34msample_data\u001b[0m/\n"
          ]
        }
      ]
    },
    {
      "cell_type": "code",
      "source": [
        "pwd"
      ],
      "metadata": {
        "colab": {
          "base_uri": "https://localhost:8080/",
          "height": 36
        },
        "id": "3rmSPp7F2fuL",
        "outputId": "e44dac28-4a10-44be-9f17-b92e5bfdb194"
      },
      "execution_count": null,
      "outputs": [
        {
          "output_type": "execute_result",
          "data": {
            "text/plain": [
              "'/content'"
            ],
            "application/vnd.google.colaboratory.intrinsic+json": {
              "type": "string"
            }
          },
          "metadata": {},
          "execution_count": 7
        }
      ]
    },
    {
      "cell_type": "code",
      "source": [
        "#read dataset\n",
        "df=pd.read_csv('/content/drive/MyDrive/99acres_data.csv')\n"
      ],
      "metadata": {
        "id": "w-u525n32ja4"
      },
      "execution_count": null,
      "outputs": []
    },
    {
      "cell_type": "code",
      "source": [
        "df.head()"
      ],
      "metadata": {
        "colab": {
          "base_uri": "https://localhost:8080/",
          "height": 313
        },
        "id": "SJd5IiJQ22P3",
        "outputId": "7ce67578-2202-4aec-c71b-31bba68cffb2"
      },
      "execution_count": null,
      "outputs": [
        {
          "output_type": "execute_result",
          "data": {
            "text/plain": [
              "     city  monthly_rant  BHKS    Baths  sqft_per_inch        build_up_area  \\\n",
              "0  mumbai       17500.0   1.0  2 Baths            470          Carpet Area   \n",
              "1  mumbai       75000.0   3.0  3 Baths           1800  Super built-up Area   \n",
              "2  mumbai       60000.0   2.0  2 Baths            950  Super built-up Area   \n",
              "3  mumbai       52000.0   3.0  3 Baths           1300          Carpet Area   \n",
              "4  mumbai       30000.0   1.0   1 Bath            550        Built-up Area   \n",
              "\n",
              "  Type_of_property location_of_the_property   deposit  \n",
              "0      Residential             Kolshet Road   75000.0  \n",
              "1      Residential          Sector 21 Nerul  400000.0  \n",
              "2      Residential                   Wadala  200000.0  \n",
              "3      Residential       Hiranandani Estate  300000.0  \n",
              "4      Residential        Kanjurmarg (East)  150000.0  "
            ],
            "text/html": [
              "\n",
              "  <div id=\"df-e043e411-95ac-4b77-871e-fab5e8afb747\" class=\"colab-df-container\">\n",
              "    <div>\n",
              "<style scoped>\n",
              "    .dataframe tbody tr th:only-of-type {\n",
              "        vertical-align: middle;\n",
              "    }\n",
              "\n",
              "    .dataframe tbody tr th {\n",
              "        vertical-align: top;\n",
              "    }\n",
              "\n",
              "    .dataframe thead th {\n",
              "        text-align: right;\n",
              "    }\n",
              "</style>\n",
              "<table border=\"1\" class=\"dataframe\">\n",
              "  <thead>\n",
              "    <tr style=\"text-align: right;\">\n",
              "      <th></th>\n",
              "      <th>city</th>\n",
              "      <th>monthly_rant</th>\n",
              "      <th>BHKS</th>\n",
              "      <th>Baths</th>\n",
              "      <th>sqft_per_inch</th>\n",
              "      <th>build_up_area</th>\n",
              "      <th>Type_of_property</th>\n",
              "      <th>location_of_the_property</th>\n",
              "      <th>deposit</th>\n",
              "    </tr>\n",
              "  </thead>\n",
              "  <tbody>\n",
              "    <tr>\n",
              "      <th>0</th>\n",
              "      <td>mumbai</td>\n",
              "      <td>17500.0</td>\n",
              "      <td>1.0</td>\n",
              "      <td>2 Baths</td>\n",
              "      <td>470</td>\n",
              "      <td>Carpet Area</td>\n",
              "      <td>Residential</td>\n",
              "      <td>Kolshet Road</td>\n",
              "      <td>75000.0</td>\n",
              "    </tr>\n",
              "    <tr>\n",
              "      <th>1</th>\n",
              "      <td>mumbai</td>\n",
              "      <td>75000.0</td>\n",
              "      <td>3.0</td>\n",
              "      <td>3 Baths</td>\n",
              "      <td>1800</td>\n",
              "      <td>Super built-up Area</td>\n",
              "      <td>Residential</td>\n",
              "      <td>Sector 21 Nerul</td>\n",
              "      <td>400000.0</td>\n",
              "    </tr>\n",
              "    <tr>\n",
              "      <th>2</th>\n",
              "      <td>mumbai</td>\n",
              "      <td>60000.0</td>\n",
              "      <td>2.0</td>\n",
              "      <td>2 Baths</td>\n",
              "      <td>950</td>\n",
              "      <td>Super built-up Area</td>\n",
              "      <td>Residential</td>\n",
              "      <td>Wadala</td>\n",
              "      <td>200000.0</td>\n",
              "    </tr>\n",
              "    <tr>\n",
              "      <th>3</th>\n",
              "      <td>mumbai</td>\n",
              "      <td>52000.0</td>\n",
              "      <td>3.0</td>\n",
              "      <td>3 Baths</td>\n",
              "      <td>1300</td>\n",
              "      <td>Carpet Area</td>\n",
              "      <td>Residential</td>\n",
              "      <td>Hiranandani Estate</td>\n",
              "      <td>300000.0</td>\n",
              "    </tr>\n",
              "    <tr>\n",
              "      <th>4</th>\n",
              "      <td>mumbai</td>\n",
              "      <td>30000.0</td>\n",
              "      <td>1.0</td>\n",
              "      <td>1 Bath</td>\n",
              "      <td>550</td>\n",
              "      <td>Built-up Area</td>\n",
              "      <td>Residential</td>\n",
              "      <td>Kanjurmarg (East)</td>\n",
              "      <td>150000.0</td>\n",
              "    </tr>\n",
              "  </tbody>\n",
              "</table>\n",
              "</div>\n",
              "    <div class=\"colab-df-buttons\">\n",
              "\n",
              "  <div class=\"colab-df-container\">\n",
              "    <button class=\"colab-df-convert\" onclick=\"convertToInteractive('df-e043e411-95ac-4b77-871e-fab5e8afb747')\"\n",
              "            title=\"Convert this dataframe to an interactive table.\"\n",
              "            style=\"display:none;\">\n",
              "\n",
              "  <svg xmlns=\"http://www.w3.org/2000/svg\" height=\"24px\" viewBox=\"0 -960 960 960\">\n",
              "    <path d=\"M120-120v-720h720v720H120Zm60-500h600v-160H180v160Zm220 220h160v-160H400v160Zm0 220h160v-160H400v160ZM180-400h160v-160H180v160Zm440 0h160v-160H620v160ZM180-180h160v-160H180v160Zm440 0h160v-160H620v160Z\"/>\n",
              "  </svg>\n",
              "    </button>\n",
              "\n",
              "  <style>\n",
              "    .colab-df-container {\n",
              "      display:flex;\n",
              "      gap: 12px;\n",
              "    }\n",
              "\n",
              "    .colab-df-convert {\n",
              "      background-color: #E8F0FE;\n",
              "      border: none;\n",
              "      border-radius: 50%;\n",
              "      cursor: pointer;\n",
              "      display: none;\n",
              "      fill: #1967D2;\n",
              "      height: 32px;\n",
              "      padding: 0 0 0 0;\n",
              "      width: 32px;\n",
              "    }\n",
              "\n",
              "    .colab-df-convert:hover {\n",
              "      background-color: #E2EBFA;\n",
              "      box-shadow: 0px 1px 2px rgba(60, 64, 67, 0.3), 0px 1px 3px 1px rgba(60, 64, 67, 0.15);\n",
              "      fill: #174EA6;\n",
              "    }\n",
              "\n",
              "    .colab-df-buttons div {\n",
              "      margin-bottom: 4px;\n",
              "    }\n",
              "\n",
              "    [theme=dark] .colab-df-convert {\n",
              "      background-color: #3B4455;\n",
              "      fill: #D2E3FC;\n",
              "    }\n",
              "\n",
              "    [theme=dark] .colab-df-convert:hover {\n",
              "      background-color: #434B5C;\n",
              "      box-shadow: 0px 1px 3px 1px rgba(0, 0, 0, 0.15);\n",
              "      filter: drop-shadow(0px 1px 2px rgba(0, 0, 0, 0.3));\n",
              "      fill: #FFFFFF;\n",
              "    }\n",
              "  </style>\n",
              "\n",
              "    <script>\n",
              "      const buttonEl =\n",
              "        document.querySelector('#df-e043e411-95ac-4b77-871e-fab5e8afb747 button.colab-df-convert');\n",
              "      buttonEl.style.display =\n",
              "        google.colab.kernel.accessAllowed ? 'block' : 'none';\n",
              "\n",
              "      async function convertToInteractive(key) {\n",
              "        const element = document.querySelector('#df-e043e411-95ac-4b77-871e-fab5e8afb747');\n",
              "        const dataTable =\n",
              "          await google.colab.kernel.invokeFunction('convertToInteractive',\n",
              "                                                    [key], {});\n",
              "        if (!dataTable) return;\n",
              "\n",
              "        const docLinkHtml = 'Like what you see? Visit the ' +\n",
              "          '<a target=\"_blank\" href=https://colab.research.google.com/notebooks/data_table.ipynb>data table notebook</a>'\n",
              "          + ' to learn more about interactive tables.';\n",
              "        element.innerHTML = '';\n",
              "        dataTable['output_type'] = 'display_data';\n",
              "        await google.colab.output.renderOutput(dataTable, element);\n",
              "        const docLink = document.createElement('div');\n",
              "        docLink.innerHTML = docLinkHtml;\n",
              "        element.appendChild(docLink);\n",
              "      }\n",
              "    </script>\n",
              "  </div>\n",
              "\n",
              "\n",
              "<div id=\"df-ccfd263f-9e99-4508-9c28-ba76ea9fb3bc\">\n",
              "  <button class=\"colab-df-quickchart\" onclick=\"quickchart('df-ccfd263f-9e99-4508-9c28-ba76ea9fb3bc')\"\n",
              "            title=\"Suggest charts.\"\n",
              "            style=\"display:none;\">\n",
              "\n",
              "<svg xmlns=\"http://www.w3.org/2000/svg\" height=\"24px\"viewBox=\"0 0 24 24\"\n",
              "     width=\"24px\">\n",
              "    <g>\n",
              "        <path d=\"M19 3H5c-1.1 0-2 .9-2 2v14c0 1.1.9 2 2 2h14c1.1 0 2-.9 2-2V5c0-1.1-.9-2-2-2zM9 17H7v-7h2v7zm4 0h-2V7h2v10zm4 0h-2v-4h2v4z\"/>\n",
              "    </g>\n",
              "</svg>\n",
              "  </button>\n",
              "\n",
              "<style>\n",
              "  .colab-df-quickchart {\n",
              "      --bg-color: #E8F0FE;\n",
              "      --fill-color: #1967D2;\n",
              "      --hover-bg-color: #E2EBFA;\n",
              "      --hover-fill-color: #174EA6;\n",
              "      --disabled-fill-color: #AAA;\n",
              "      --disabled-bg-color: #DDD;\n",
              "  }\n",
              "\n",
              "  [theme=dark] .colab-df-quickchart {\n",
              "      --bg-color: #3B4455;\n",
              "      --fill-color: #D2E3FC;\n",
              "      --hover-bg-color: #434B5C;\n",
              "      --hover-fill-color: #FFFFFF;\n",
              "      --disabled-bg-color: #3B4455;\n",
              "      --disabled-fill-color: #666;\n",
              "  }\n",
              "\n",
              "  .colab-df-quickchart {\n",
              "    background-color: var(--bg-color);\n",
              "    border: none;\n",
              "    border-radius: 50%;\n",
              "    cursor: pointer;\n",
              "    display: none;\n",
              "    fill: var(--fill-color);\n",
              "    height: 32px;\n",
              "    padding: 0;\n",
              "    width: 32px;\n",
              "  }\n",
              "\n",
              "  .colab-df-quickchart:hover {\n",
              "    background-color: var(--hover-bg-color);\n",
              "    box-shadow: 0 1px 2px rgba(60, 64, 67, 0.3), 0 1px 3px 1px rgba(60, 64, 67, 0.15);\n",
              "    fill: var(--button-hover-fill-color);\n",
              "  }\n",
              "\n",
              "  .colab-df-quickchart-complete:disabled,\n",
              "  .colab-df-quickchart-complete:disabled:hover {\n",
              "    background-color: var(--disabled-bg-color);\n",
              "    fill: var(--disabled-fill-color);\n",
              "    box-shadow: none;\n",
              "  }\n",
              "\n",
              "  .colab-df-spinner {\n",
              "    border: 2px solid var(--fill-color);\n",
              "    border-color: transparent;\n",
              "    border-bottom-color: var(--fill-color);\n",
              "    animation:\n",
              "      spin 1s steps(1) infinite;\n",
              "  }\n",
              "\n",
              "  @keyframes spin {\n",
              "    0% {\n",
              "      border-color: transparent;\n",
              "      border-bottom-color: var(--fill-color);\n",
              "      border-left-color: var(--fill-color);\n",
              "    }\n",
              "    20% {\n",
              "      border-color: transparent;\n",
              "      border-left-color: var(--fill-color);\n",
              "      border-top-color: var(--fill-color);\n",
              "    }\n",
              "    30% {\n",
              "      border-color: transparent;\n",
              "      border-left-color: var(--fill-color);\n",
              "      border-top-color: var(--fill-color);\n",
              "      border-right-color: var(--fill-color);\n",
              "    }\n",
              "    40% {\n",
              "      border-color: transparent;\n",
              "      border-right-color: var(--fill-color);\n",
              "      border-top-color: var(--fill-color);\n",
              "    }\n",
              "    60% {\n",
              "      border-color: transparent;\n",
              "      border-right-color: var(--fill-color);\n",
              "    }\n",
              "    80% {\n",
              "      border-color: transparent;\n",
              "      border-right-color: var(--fill-color);\n",
              "      border-bottom-color: var(--fill-color);\n",
              "    }\n",
              "    90% {\n",
              "      border-color: transparent;\n",
              "      border-bottom-color: var(--fill-color);\n",
              "    }\n",
              "  }\n",
              "</style>\n",
              "\n",
              "  <script>\n",
              "    async function quickchart(key) {\n",
              "      const quickchartButtonEl =\n",
              "        document.querySelector('#' + key + ' button');\n",
              "      quickchartButtonEl.disabled = true;  // To prevent multiple clicks.\n",
              "      quickchartButtonEl.classList.add('colab-df-spinner');\n",
              "      try {\n",
              "        const charts = await google.colab.kernel.invokeFunction(\n",
              "            'suggestCharts', [key], {});\n",
              "      } catch (error) {\n",
              "        console.error('Error during call to suggestCharts:', error);\n",
              "      }\n",
              "      quickchartButtonEl.classList.remove('colab-df-spinner');\n",
              "      quickchartButtonEl.classList.add('colab-df-quickchart-complete');\n",
              "    }\n",
              "    (() => {\n",
              "      let quickchartButtonEl =\n",
              "        document.querySelector('#df-ccfd263f-9e99-4508-9c28-ba76ea9fb3bc button');\n",
              "      quickchartButtonEl.style.display =\n",
              "        google.colab.kernel.accessAllowed ? 'block' : 'none';\n",
              "    })();\n",
              "  </script>\n",
              "</div>\n",
              "    </div>\n",
              "  </div>\n"
            ]
          },
          "metadata": {},
          "execution_count": 9
        }
      ]
    },
    {
      "cell_type": "code",
      "source": [
        "#univariate analysis\n",
        "print(\"Numbers of Area type :\")\n",
        "print()\n",
        "print(df['build_up_area'].value_counts())\n",
        "sns.set(rc={'figure.figsize':(8,4)})\n",
        "sns.countplot(x='build_up_area',data=df,palette='Set2')"
      ],
      "metadata": {
        "colab": {
          "base_uri": "https://localhost:8080/",
          "height": 467
        },
        "id": "-FX97sVN2_vr",
        "outputId": "13f138cb-2070-4b91-a1fd-45a0e1af046d"
      },
      "execution_count": null,
      "outputs": [
        {
          "output_type": "stream",
          "name": "stdout",
          "text": [
            "Numbers of Area type :\n",
            "\n",
            "Super built-up Area    69918\n",
            "Carpet Area            36847\n",
            "Built-up Area          29104\n",
            "Plot Area              10659\n",
            "Name: build_up_area, dtype: int64\n"
          ]
        },
        {
          "output_type": "execute_result",
          "data": {
            "text/plain": [
              "<Axes: xlabel='build_up_area', ylabel='count'>"
            ]
          },
          "metadata": {},
          "execution_count": 10
        },
        {
          "output_type": "display_data",
          "data": {
            "text/plain": [
              "<Figure size 800x400 with 1 Axes>"
            ],
            "image/png": "[encoded data removed]"
          },
          "metadata": {}
        }
      ]
    },
    {
      "cell_type": "code",
      "source": [
        "print('types of Property :')\n",
        "print()\n",
        "print(df['Type_of_property'].value_counts())\n",
        "sns.set(rc={'figure.figsize':(15,4)})\n",
        "sns.countplot(x='Type_of_property',data=df,palette='Set2')"
      ],
      "metadata": {
        "colab": {
          "base_uri": "https://localhost:8080/",
          "height": 383
        },
        "id": "vTSosS6P6Qhm",
        "outputId": "f6e6bb6d-0747-4edb-93d3-15df798735bd"
      },
      "execution_count": null,
      "outputs": [
        {
          "output_type": "stream",
          "name": "stdout",
          "text": [
            "types of Property :\n",
            "\n",
            "Residential    102024\n",
            "Independent     41243\n",
            "Studio           2606\n",
            "Serviced          363\n",
            "Farm              161\n",
            "for               118\n",
            "Floor              13\n",
            "Name: Type_of_property, dtype: int64\n"
          ]
        },
        {
          "output_type": "execute_result",
          "data": {
            "text/plain": [
              "<Axes: xlabel='Type_of_property', ylabel='count'>"
            ]
          },
          "metadata": {},
          "execution_count": 11
        },
        {
          "output_type": "display_data",
          "data": {
            "text/plain": [
              "<Figure size 1500x400 with 1 Axes>"
            ],
            "image/png": "[encoded data removed]"
          },
          "metadata": {}
        }
      ]
    },
    {
      "cell_type": "code",
      "source": [
        "print(\"Property located based on city :-\")\n",
        "print()\n",
        "print(df['city'].value_counts())\n",
        "sns.set(rc={'figure.figsize':(10,2)})\n",
        "sns.countplot(x='city',data=df,palette='Set2')"
      ],
      "metadata": {
        "colab": {
          "base_uri": "https://localhost:8080/",
          "height": 376
        },
        "id": "6BeNu67R9rwI",
        "outputId": "d0c9ca36-4d08-4117-b813-5a426cb3ac45"
      },
      "execution_count": null,
      "outputs": [
        {
          "output_type": "stream",
          "name": "stdout",
          "text": [
            "Property located based on city :-\n",
            "\n",
            "ncr            42016\n",
            "mumbai         37566\n",
            "bangalore      25600\n",
            "pune           18176\n",
            "chennai         9973\n",
            "hyderabad       7131\n",
            "Ahmedabad       5602\n",
            "Trivandraum      464\n",
            "Name: city, dtype: int64\n"
          ]
        },
        {
          "output_type": "execute_result",
          "data": {
            "text/plain": [
              "<Axes: xlabel='city', ylabel='count'>"
            ]
          },
          "metadata": {},
          "execution_count": 12
        },
        {
          "output_type": "display_data",
          "data": {
            "text/plain": [
              "<Figure size 1000x200 with 1 Axes>"
            ],
            "image/png": "[encoded data removed]"
          },
          "metadata": {}
        }
      ]
    },
    {
      "cell_type": "code",
      "source": [
        "sns.boxplot(df['monthly_rant'])"
      ],
      "metadata": {
        "colab": {
          "base_uri": "https://localhost:8080/",
          "height": 186
        },
        "id": "G6ah4ABA-iQn",
        "outputId": "bfe54666-1c48-4770-c7ad-968bcc466f8a"
      },
      "execution_count": null,
      "outputs": [
        {
          "output_type": "execute_result",
          "data": {
            "text/plain": [
              "<Axes: >"
            ]
          },
          "metadata": {},
          "execution_count": 13
        },
        {
          "output_type": "display_data",
          "data": {
            "text/plain": [
              "<Figure size 1000x200 with 1 Axes>"
            ],
            "image/png": "[encoded data removed]"
          },
          "metadata": {}
        }
      ]
    },
    {
      "cell_type": "code",
      "source": [
        "#multivariate analysis\n",
        "sns.heatmap(df.corr(),annot=True)"
      ],
      "metadata": {
        "colab": {
          "base_uri": "https://localhost:8080/",
          "height": 183
        },
        "id": "EDpZm2wQ-s6T",
        "outputId": "785bf05b-2b58-49f9-ce25-9b564d430cee"
      },
      "execution_count": null,
      "outputs": [
        {
          "output_type": "execute_result",
          "data": {
            "text/plain": [
              "<Axes: >"
            ]
          },
          "metadata": {},
          "execution_count": 14
        },
        {
          "output_type": "display_data",
          "data": {
            "text/plain": [
              "<Figure size 1000x200 with 2 Axes>"
            ],
            "image/png": "[encoded data removed]"
          },
          "metadata": {}
        }
      ]
    },
    {
      "cell_type": "code",
      "source": [
        "#descriptive analysis\n",
        "df.describe(include='all')"
      ],
      "metadata": {
        "colab": {
          "base_uri": "https://localhost:8080/",
          "height": 431
        },
        "id": "Z6zRwq2a_Mmy",
        "outputId": "a42695bf-4eba-4403-8d50-2da9000e85ef"
      },
      "execution_count": null,
      "outputs": [
        {
          "output_type": "execute_result",
          "data": {
            "text/plain": [
              "          city  monthly_rant           BHKS    Baths  sqft_per_inch  \\\n",
              "count   146528  1.465280e+05  146528.000000   146528   1.465280e+05   \n",
              "unique       8           NaN            NaN       41            NaN   \n",
              "top        ncr           NaN            NaN  2 Baths            NaN   \n",
              "freq     42016           NaN            NaN    68767            NaN   \n",
              "mean       NaN  3.414242e+04       2.159703      NaN   2.463806e+03   \n",
              "std        NaN  8.428243e+04       1.107673      NaN   1.816119e+05   \n",
              "min        NaN  5.000000e+02       1.000000      NaN   1.000000e+00   \n",
              "25%        NaN  1.300000e+04       1.000000      NaN   6.800000e+02   \n",
              "50%        NaN  2.000000e+04       2.000000      NaN   1.057000e+03   \n",
              "75%        NaN  3.290000e+04       3.000000      NaN   1.500000e+03   \n",
              "max        NaN  9.917000e+06      95.000000      NaN   4.356000e+07   \n",
              "\n",
              "              build_up_area Type_of_property location_of_the_property  \\\n",
              "count                146528           146528                   146528   \n",
              "unique                    4                7                    12555   \n",
              "top     Super built-up Area      Residential          Goregaon (East)   \n",
              "freq                  69918           102024                      807   \n",
              "mean                    NaN              NaN                      NaN   \n",
              "std                     NaN              NaN                      NaN   \n",
              "min                     NaN              NaN                      NaN   \n",
              "25%                     NaN              NaN                      NaN   \n",
              "50%                     NaN              NaN                      NaN   \n",
              "75%                     NaN              NaN                      NaN   \n",
              "max                     NaN              NaN                      NaN   \n",
              "\n",
              "             deposit  \n",
              "count   1.465280e+05  \n",
              "unique           NaN  \n",
              "top              NaN  \n",
              "freq             NaN  \n",
              "mean    1.203667e+05  \n",
              "std     2.937736e+05  \n",
              "min     0.000000e+00  \n",
              "25%     3.000000e+04  \n",
              "50%     6.000000e+04  \n",
              "75%     1.250000e+05  \n",
              "max     2.100000e+07  "
            ],
            "text/html": [
              "\n",
              "  <div id=\"df-10b864cb-6248-46b3-b3c4-4419618412f6\" class=\"colab-df-container\">\n",
              "    <div>\n",
              "<style scoped>\n",
              "    .dataframe tbody tr th:only-of-type {\n",
              "        vertical-align: middle;\n",
              "    }\n",
              "\n",
              "    .dataframe tbody tr th {\n",
              "        vertical-align: top;\n",
              "    }\n",
              "\n",
              "    .dataframe thead th {\n",
              "        text-align: right;\n",
              "    }\n",
              "</style>\n",
              "<table border=\"1\" class=\"dataframe\">\n",
              "  <thead>\n",
              "    <tr style=\"text-align: right;\">\n",
              "      <th></th>\n",
              "      <th>city</th>\n",
              "      <th>monthly_rant</th>\n",
              "      <th>BHKS</th>\n",
              "      <th>Baths</th>\n",
              "      <th>sqft_per_inch</th>\n",
              "      <th>build_up_area</th>\n",
              "      <th>Type_of_property</th>\n",
              "      <th>location_of_the_property</th>\n",
              "      <th>deposit</th>\n",
              "    </tr>\n",
              "  </thead>\n",
              "  <tbody>\n",
              "    <tr>\n",
              "      <th>count</th>\n",
              "      <td>146528</td>\n",
              "      <td>1.465280e+05</td>\n",
              "      <td>146528.000000</td>\n",
              "      <td>146528</td>\n",
              "      <td>1.465280e+05</td>\n",
              "      <td>146528</td>\n",
              "      <td>146528</td>\n",
              "      <td>146528</td>\n",
              "      <td>1.465280e+05</td>\n",
              "    </tr>\n",
              "    <tr>\n",
              "      <th>unique</th>\n",
              "      <td>8</td>\n",
              "      <td>NaN</td>\n",
              "      <td>NaN</td>\n",
              "      <td>41</td>\n",
              "      <td>NaN</td>\n",
              "      <td>4</td>\n",
              "      <td>7</td>\n",
              "      <td>12555</td>\n",
              "      <td>NaN</td>\n",
              "    </tr>\n",
              "    <tr>\n",
              "      <th>top</th>\n",
              "      <td>ncr</td>\n",
              "      <td>NaN</td>\n",
              "      <td>NaN</td>\n",
              "      <td>2 Baths</td>\n",
              "      <td>NaN</td>\n",
              "      <td>Super built-up Area</td>\n",
              "      <td>Residential</td>\n",
              "      <td>Goregaon (East)</td>\n",
              "      <td>NaN</td>\n",
              "    </tr>\n",
              "    <tr>\n",
              "      <th>freq</th>\n",
              "      <td>42016</td>\n",
              "      <td>NaN</td>\n",
              "      <td>NaN</td>\n",
              "      <td>68767</td>\n",
              "      <td>NaN</td>\n",
              "      <td>69918</td>\n",
              "      <td>102024</td>\n",
              "      <td>807</td>\n",
              "      <td>NaN</td>\n",
              "    </tr>\n",
              "    <tr>\n",
              "      <th>mean</th>\n",
              "      <td>NaN</td>\n",
              "      <td>3.414242e+04</td>\n",
              "      <td>2.159703</td>\n",
              "      <td>NaN</td>\n",
              "      <td>2.463806e+03</td>\n",
              "      <td>NaN</td>\n",
              "      <td>NaN</td>\n",
              "      <td>NaN</td>\n",
              "      <td>1.203667e+05</td>\n",
              "    </tr>\n",
              "    <tr>\n",
              "      <th>std</th>\n",
              "      <td>NaN</td>\n",
              "      <td>8.428243e+04</td>\n",
              "      <td>1.107673</td>\n",
              "      <td>NaN</td>\n",
              "      <td>1.816119e+05</td>\n",
              "      <td>NaN</td>\n",
              "      <td>NaN</td>\n",
              "      <td>NaN</td>\n",
              "      <td>2.937736e+05</td>\n",
              "    </tr>\n",
              "    <tr>\n",
              "      <th>min</th>\n",
              "      <td>NaN</td>\n",
              "      <td>5.000000e+02</td>\n",
              "      <td>1.000000</td>\n",
              "      <td>NaN</td>\n",
              "      <td>1.000000e+00</td>\n",
              "      <td>NaN</td>\n",
              "      <td>NaN</td>\n",
              "      <td>NaN</td>\n",
              "      <td>0.000000e+00</td>\n",
              "    </tr>\n",
              "    <tr>\n",
              "      <th>25%</th>\n",
              "      <td>NaN</td>\n",
              "      <td>1.300000e+04</td>\n",
              "      <td>1.000000</td>\n",
              "      <td>NaN</td>\n",
              "      <td>6.800000e+02</td>\n",
              "      <td>NaN</td>\n",
              "      <td>NaN</td>\n",
              "      <td>NaN</td>\n",
              "      <td>3.000000e+04</td>\n",
              "    </tr>\n",
              "    <tr>\n",
              "      <th>50%</th>\n",
              "      <td>NaN</td>\n",
              "      <td>2.000000e+04</td>\n",
              "      <td>2.000000</td>\n",
              "      <td>NaN</td>\n",
              "      <td>1.057000e+03</td>\n",
              "      <td>NaN</td>\n",
              "      <td>NaN</td>\n",
              "      <td>NaN</td>\n",
              "      <td>6.000000e+04</td>\n",
              "    </tr>\n",
              "    <tr>\n",
              "      <th>75%</th>\n",
              "      <td>NaN</td>\n",
              "      <td>3.290000e+04</td>\n",
              "      <td>3.000000</td>\n",
              "      <td>NaN</td>\n",
              "      <td>1.500000e+03</td>\n",
              "      <td>NaN</td>\n",
              "      <td>NaN</td>\n",
              "      <td>NaN</td>\n",
              "      <td>1.250000e+05</td>\n",
              "    </tr>\n",
              "    <tr>\n",
              "      <th>max</th>\n",
              "      <td>NaN</td>\n",
              "      <td>9.917000e+06</td>\n",
              "      <td>95.000000</td>\n",
              "      <td>NaN</td>\n",
              "      <td>4.356000e+07</td>\n",
              "      <td>NaN</td>\n",
              "      <td>NaN</td>\n",
              "      <td>NaN</td>\n",
              "      <td>2.100000e+07</td>\n",
              "    </tr>\n",
              "  </tbody>\n",
              "</table>\n",
              "</div>\n",
              "    <div class=\"colab-df-buttons\">\n",
              "\n",
              "  <div class=\"colab-df-container\">\n",
              "    <button class=\"colab-df-convert\" onclick=\"convertToInteractive('df-10b864cb-6248-46b3-b3c4-4419618412f6')\"\n",
              "            title=\"Convert this dataframe to an interactive table.\"\n",
              "            style=\"display:none;\">\n",
              "\n",
              "  <svg xmlns=\"http://www.w3.org/2000/svg\" height=\"24px\" viewBox=\"0 -960 960 960\">\n",
              "    <path d=\"M120-120v-720h720v720H120Zm60-500h600v-160H180v160Zm220 220h160v-160H400v160Zm0 220h160v-160H400v160ZM180-400h160v-160H180v160Zm440 0h160v-160H620v160ZM180-180h160v-160H180v160Zm440 0h160v-160H620v160Z\"/>\n",
              "  </svg>\n",
              "    </button>\n",
              "\n",
              "  <style>\n",
              "    .colab-df-container {\n",
              "      display:flex;\n",
              "      gap: 12px;\n",
              "    }\n",
              "\n",
              "    .colab-df-convert {\n",
              "      background-color: #E8F0FE;\n",
              "      border: none;\n",
              "      border-radius: 50%;\n",
              "      cursor: pointer;\n",
              "      display: none;\n",
              "      fill: #1967D2;\n",
              "      height: 32px;\n",
              "      padding: 0 0 0 0;\n",
              "      width: 32px;\n",
              "    }\n",
              "\n",
              "    .colab-df-convert:hover {\n",
              "      background-color: #E2EBFA;\n",
              "      box-shadow: 0px 1px 2px rgba(60, 64, 67, 0.3), 0px 1px 3px 1px rgba(60, 64, 67, 0.15);\n",
              "      fill: #174EA6;\n",
              "    }\n",
              "\n",
              "    .colab-df-buttons div {\n",
              "      margin-bottom: 4px;\n",
              "    }\n",
              "\n",
              "    [theme=dark] .colab-df-convert {\n",
              "      background-color: #3B4455;\n",
              "      fill: #D2E3FC;\n",
              "    }\n",
              "\n",
              "    [theme=dark] .colab-df-convert:hover {\n",
              "      background-color: #434B5C;\n",
              "      box-shadow: 0px 1px 3px 1px rgba(0, 0, 0, 0.15);\n",
              "      filter: drop-shadow(0px 1px 2px rgba(0, 0, 0, 0.3));\n",
              "      fill: #FFFFFF;\n",
              "    }\n",
              "  </style>\n",
              "\n",
              "    <script>\n",
              "      const buttonEl =\n",
              "        document.querySelector('#df-10b864cb-6248-46b3-b3c4-4419618412f6 button.colab-df-convert');\n",
              "      buttonEl.style.display =\n",
              "        google.colab.kernel.accessAllowed ? 'block' : 'none';\n",
              "\n",
              "      async function convertToInteractive(key) {\n",
              "        const element = document.querySelector('#df-10b864cb-6248-46b3-b3c4-4419618412f6');\n",
              "        const dataTable =\n",
              "          await google.colab.kernel.invokeFunction('convertToInteractive',\n",
              "                                                    [key], {});\n",
              "        if (!dataTable) return;\n",
              "\n",
              "        const docLinkHtml = 'Like what you see? Visit the ' +\n",
              "          '<a target=\"_blank\" href=https://colab.research.google.com/notebooks/data_table.ipynb>data table notebook</a>'\n",
              "          + ' to learn more about interactive tables.';\n",
              "        element.innerHTML = '';\n",
              "        dataTable['output_type'] = 'display_data';\n",
              "        await google.colab.output.renderOutput(dataTable, element);\n",
              "        const docLink = document.createElement('div');\n",
              "        docLink.innerHTML = docLinkHtml;\n",
              "        element.appendChild(docLink);\n",
              "      }\n",
              "    </script>\n",
              "  </div>\n",
              "\n",
              "\n",
              "<div id=\"df-6aab5d6e-0880-4761-9b38-7ef404240528\">\n",
              "  <button class=\"colab-df-quickchart\" onclick=\"quickchart('df-6aab5d6e-0880-4761-9b38-7ef404240528')\"\n",
              "            title=\"Suggest charts.\"\n",
              "            style=\"display:none;\">\n",
              "\n",
              "<svg xmlns=\"http://www.w3.org/2000/svg\" height=\"24px\"viewBox=\"0 0 24 24\"\n",
              "     width=\"24px\">\n",
              "    <g>\n",
              "        <path d=\"M19 3H5c-1.1 0-2 .9-2 2v14c0 1.1.9 2 2 2h14c1.1 0 2-.9 2-2V5c0-1.1-.9-2-2-2zM9 17H7v-7h2v7zm4 0h-2V7h2v10zm4 0h-2v-4h2v4z\"/>\n",
              "    </g>\n",
              "</svg>\n",
              "  </button>\n",
              "\n",
              "<style>\n",
              "  .colab-df-quickchart {\n",
              "      --bg-color: #E8F0FE;\n",
              "      --fill-color: #1967D2;\n",
              "      --hover-bg-color: #E2EBFA;\n",
              "      --hover-fill-color: #174EA6;\n",
              "      --disabled-fill-color: #AAA;\n",
              "      --disabled-bg-color: #DDD;\n",
              "  }\n",
              "\n",
              "  [theme=dark] .colab-df-quickchart {\n",
              "      --bg-color: #3B4455;\n",
              "      --fill-color: #D2E3FC;\n",
              "      --hover-bg-color: #434B5C;\n",
              "      --hover-fill-color: #FFFFFF;\n",
              "      --disabled-bg-color: #3B4455;\n",
              "      --disabled-fill-color: #666;\n",
              "  }\n",
              "\n",
              "  .colab-df-quickchart {\n",
              "    background-color: var(--bg-color);\n",
              "    border: none;\n",
              "    border-radius: 50%;\n",
              "    cursor: pointer;\n",
              "    display: none;\n",
              "    fill: var(--fill-color);\n",
              "    height: 32px;\n",
              "    padding: 0;\n",
              "    width: 32px;\n",
              "  }\n",
              "\n",
              "  .colab-df-quickchart:hover {\n",
              "    background-color: var(--hover-bg-color);\n",
              "    box-shadow: 0 1px 2px rgba(60, 64, 67, 0.3), 0 1px 3px 1px rgba(60, 64, 67, 0.15);\n",
              "    fill: var(--button-hover-fill-color);\n",
              "  }\n",
              "\n",
              "  .colab-df-quickchart-complete:disabled,\n",
              "  .colab-df-quickchart-complete:disabled:hover {\n",
              "    background-color: var(--disabled-bg-color);\n",
              "    fill: var(--disabled-fill-color);\n",
              "    box-shadow: none;\n",
              "  }\n",
              "\n",
              "  .colab-df-spinner {\n",
              "    border: 2px solid var(--fill-color);\n",
              "    border-color: transparent;\n",
              "    border-bottom-color: var(--fill-color);\n",
              "    animation:\n",
              "      spin 1s steps(1) infinite;\n",
              "  }\n",
              "\n",
              "  @keyframes spin {\n",
              "    0% {\n",
              "      border-color: transparent;\n",
              "      border-bottom-color: var(--fill-color);\n",
              "      border-left-color: var(--fill-color);\n",
              "    }\n",
              "    20% {\n",
              "      border-color: transparent;\n",
              "      border-left-color: var(--fill-color);\n",
              "      border-top-color: var(--fill-color);\n",
              "    }\n",
              "    30% {\n",
              "      border-color: transparent;\n",
              "      border-left-color: var(--fill-color);\n",
              "      border-top-color: var(--fill-color);\n",
              "      border-right-color: var(--fill-color);\n",
              "    }\n",
              "    40% {\n",
              "      border-color: transparent;\n",
              "      border-right-color: var(--fill-color);\n",
              "      border-top-color: var(--fill-color);\n",
              "    }\n",
              "    60% {\n",
              "      border-color: transparent;\n",
              "      border-right-color: var(--fill-color);\n",
              "    }\n",
              "    80% {\n",
              "      border-color: transparent;\n",
              "      border-right-color: var(--fill-color);\n",
              "      border-bottom-color: var(--fill-color);\n",
              "    }\n",
              "    90% {\n",
              "      border-color: transparent;\n",
              "      border-bottom-color: var(--fill-color);\n",
              "    }\n",
              "  }\n",
              "</style>\n",
              "\n",
              "  <script>\n",
              "    async function quickchart(key) {\n",
              "      const quickchartButtonEl =\n",
              "        document.querySelector('#' + key + ' button');\n",
              "      quickchartButtonEl.disabled = true;  // To prevent multiple clicks.\n",
              "      quickchartButtonEl.classList.add('colab-df-spinner');\n",
              "      try {\n",
              "        const charts = await google.colab.kernel.invokeFunction(\n",
              "            'suggestCharts', [key], {});\n",
              "      } catch (error) {\n",
              "        console.error('Error during call to suggestCharts:', error);\n",
              "      }\n",
              "      quickchartButtonEl.classList.remove('colab-df-spinner');\n",
              "      quickchartButtonEl.classList.add('colab-df-quickchart-complete');\n",
              "    }\n",
              "    (() => {\n",
              "      let quickchartButtonEl =\n",
              "        document.querySelector('#df-6aab5d6e-0880-4761-9b38-7ef404240528 button');\n",
              "      quickchartButtonEl.style.display =\n",
              "        google.colab.kernel.accessAllowed ? 'block' : 'none';\n",
              "    })();\n",
              "  </script>\n",
              "</div>\n",
              "    </div>\n",
              "  </div>\n"
            ]
          },
          "metadata": {},
          "execution_count": 15
        }
      ]
    },
    {
      "cell_type": "code",
      "source": [
        "#data pre-processing\n",
        "#checking for null values\n",
        "df.isnull().sum()"
      ],
      "metadata": {
        "colab": {
          "base_uri": "https://localhost:8080/"
        },
        "id": "xYsKTCGC_ana",
        "outputId": "8ce84d34-fae4-46c0-f726-1bba2deea90f"
      },
      "execution_count": null,
      "outputs": [
        {
          "output_type": "execute_result",
          "data": {
            "text/plain": [
              "city                        0\n",
              "monthly_rant                0\n",
              "BHKS                        0\n",
              "Baths                       0\n",
              "sqft_per_inch               0\n",
              "build_up_area               0\n",
              "Type_of_property            0\n",
              "location_of_the_property    0\n",
              "deposit                     0\n",
              "dtype: int64"
            ]
          },
          "metadata": {},
          "execution_count": 16
        }
      ]
    },
    {
      "cell_type": "code",
      "source": [
        "#drop unwanted features\n",
        "df.drop(['Baths','location_of_the_property'],axis=1,inplace=True)"
      ],
      "metadata": {
        "id": "KmhyL2YSAA6X"
      },
      "execution_count": null,
      "outputs": []
    },
    {
      "cell_type": "code",
      "source": [
        "#data cleaning\n",
        "df.Type_of_property.unique()"
      ],
      "metadata": {
        "colab": {
          "base_uri": "https://localhost:8080/"
        },
        "id": "iwlqdjTFAWOp",
        "outputId": "5fbeed4b-5056-4f40-be62-43cf1dfce606"
      },
      "execution_count": null,
      "outputs": [
        {
          "output_type": "execute_result",
          "data": {
            "text/plain": [
              "array(['Residential', 'Independent', 'Studio', 'Serviced', 'for', 'Farm',\n",
              "       'Floor'], dtype=object)"
            ]
          },
          "metadata": {},
          "execution_count": 18
        }
      ]
    },
    {
      "cell_type": "code",
      "source": [
        "df=df[df.Type_of_property!='for']\n",
        "df=df[df.Type_of_property!='Serviced']\n",
        "df=df[df.Type_of_property!='Floor']"
      ],
      "metadata": {
        "id": "Cd_IZ7LcAfbs"
      },
      "execution_count": null,
      "outputs": []
    },
    {
      "cell_type": "code",
      "source": [
        "#handling outliers\n",
        "df['monthly_rant']=np.log1p(df['monthly_rant'])"
      ],
      "metadata": {
        "id": "MrlM259xAwad"
      },
      "execution_count": null,
      "outputs": []
    },
    {
      "cell_type": "code",
      "source": [
        "sns.distplot(df['monthly_rant'])"
      ],
      "metadata": {
        "colab": {
          "base_uri": "https://localhost:8080/",
          "height": 189
        },
        "id": "SwBfjkARKl89",
        "outputId": "64e10e87-3d92-4627-f1f3-845dedcca99a"
      },
      "execution_count": null,
      "outputs": [
        {
          "output_type": "execute_result",
          "data": {
            "text/plain": [
              "<Axes: xlabel='monthly_rant', ylabel='Density'>"
            ]
          },
          "metadata": {},
          "execution_count": 21
        },
        {
          "output_type": "display_data",
          "data": {
            "text/plain": [
              "<Figure size 1000x200 with 1 Axes>"
            ],
            "image/png": "[encoded data removed]"
          },
          "metadata": {}
        }
      ]
    },
    {
      "cell_type": "code",
      "source": [
        "#handling categorical values\n",
        "cty=LabelEncoder()\n",
        "b_u_a=LabelEncoder()\n",
        "T_o_p=LabelEncoder()\n",
        "l_o_t_p=LabelEncoder()\n",
        "df['city']=cty.fit_transform(df['city'])\n",
        "df['build_up_area']=b_u_a.fit_transform(df['build_up_area'])\n",
        "df['Type_of_property']=T_o_p.fit_transform(df['Type_of_property'])\n",
        "#df['location_of_the_property']=l_o_t_p.fit_transform(df['location_of_the_property'])"
      ],
      "metadata": {
        "id": "lRfovypqKyhc"
      },
      "execution_count": null,
      "outputs": []
    },
    {
      "cell_type": "code",
      "source": [
        "print(\"city\",df['city'].unique())\n",
        "print(cty.inverse_transform(list(df['city'].unique())))\n",
        "print()\n",
        "print(\"build_up_area:\",df['build_up_area'].unique())\n",
        "print(b_u_a.inverse_transform(list(df['build_up_area'].unique())))\n",
        "print()\n",
        "print(\"Type_of_property\",df['Type_of_property'].unique())\n",
        "print(T_o_p.inverse_transform(list(df['Type_of_property'].unique())))\n",
        "print()"
      ],
      "metadata": {
        "colab": {
          "base_uri": "https://localhost:8080/"
        },
        "id": "IxoQ_hmSNJqw",
        "outputId": "d3ab9f31-e929-4e70-e75d-afd9e4d5583c"
      },
      "execution_count": null,
      "outputs": [
        {
          "output_type": "stream",
          "name": "stdout",
          "text": [
            "city [5 7 3 2 4 0 6 1]\n",
            "['mumbai' 'pune' 'chennai' 'bangalore' 'hyderabad' 'Ahmedabad' 'ncr'\n",
            " 'Trivandraum']\n",
            "\n",
            "build_up_area: [1 3 0 2]\n",
            "['Carpet Area' 'Super built-up Area' 'Built-up Area' 'Plot Area']\n",
            "\n",
            "Type_of_property [2 1 3 0]\n",
            "['Residential' 'Independent' 'Studio' 'Farm']\n",
            "\n"
          ]
        }
      ]
    },
    {
      "cell_type": "code",
      "source": [
        "#handling imbalanced data"
      ],
      "metadata": {
        "id": "mORZ5uj26P6j"
      },
      "execution_count": null,
      "outputs": []
    },
    {
      "cell_type": "code",
      "source": [
        "#splitting data into train and test\n",
        "x=df.drop('monthly_rant',axis=1)\n",
        "y=df.monthly_rant"
      ],
      "metadata": {
        "id": "4uy6S0uw6kgj"
      },
      "execution_count": null,
      "outputs": []
    },
    {
      "cell_type": "code",
      "source": [
        "xtrain,xtest,ytrain,ytest=train_test_split(x,y,test_size=0.2,random_state=10)"
      ],
      "metadata": {
        "id": "zLPhT9un8SNN"
      },
      "execution_count": null,
      "outputs": []
    },
    {
      "cell_type": "code",
      "source": [
        "print('Shape of xtrain {}'.format(xtrain.shape))\n",
        "print('Shape of xtest {}'.format(xtest.shape))\n",
        "print('Shape of ytrain {}'.format(ytrain.shape))\n",
        "print('Shape of ytest {}'.format(ytest.shape))\n"
      ],
      "metadata": {
        "colab": {
          "base_uri": "https://localhost:8080/"
        },
        "id": "Zt4w_jFA8-dR",
        "outputId": "5864a095-844d-4573-ac60-4dc56cdb9aa0"
      },
      "execution_count": null,
      "outputs": [
        {
          "output_type": "stream",
          "name": "stdout",
          "text": [
            "Shape of xtrain (116827, 6)\n",
            "Shape of xtest (29207, 6)\n",
            "Shape of ytrain (116827,)\n",
            "Shape of ytest (29207,)\n"
          ]
        }
      ]
    },
    {
      "cell_type": "code",
      "source": [
        "#feature scaling\n",
        "#data normalization\n",
        "st=StandardScaler()\n",
        "xtrain_scaled=st.fit_transform(xtrain)\n",
        "xtest_scaled=st.transform(xtest)"
      ],
      "metadata": {
        "id": "0yjpigN798Fs"
      },
      "execution_count": null,
      "outputs": []
    },
    {
      "cell_type": "code",
      "source": [
        "#model building\n",
        "#linear regression\n",
        "def linear_reg(xtrain_scaled,xtest_scaled,ytrain,ytest):\n",
        "  lr=LinearRegression()\n",
        "  lr.fit(xtrain_scaled,ytrain)\n",
        "  ypred=lr.predict(xtest_scaled)\n",
        "  score=r2_score(ytest,ypred)\n",
        "  rmse=np.sqrt(mean_squared_error(ytest,ypred))\n",
        "  print('***Linear regression model***')\n",
        "  print('Score for linear regression model is {}'.format(score))\n",
        "  print('rmse for linear regression model is {}'.format(rmse))"
      ],
      "metadata": {
        "id": "pfL9dwpkV0E-"
      },
      "execution_count": null,
      "outputs": []
    },
    {
      "cell_type": "code",
      "source": [
        "#random forest regressor\n",
        "def random_forest_regressor(xtrain_scaled,xtest_scaled,ytrain,ytest):\n",
        "  rf=RandomForestRegressor()\n",
        "  rf.fit(xtrain_scaled,ytrain)\n",
        "  ypred=(rf.predict(xtest_scaled))\n",
        "  score=r2_score(ytest,ypred)\n",
        "  rmse=np.sqrt(mean_squared_error(ytest,ypred))\n",
        "  print('***Random Forest regressor model***')\n",
        "  print('Score for Random Forest regressor model is {}'.format(score))\n",
        "  print('rmse for Random Forest regressor model is {}'.format(rmse))"
      ],
      "metadata": {
        "id": "5Gp_7S55hHln"
      },
      "execution_count": null,
      "outputs": []
    },
    {
      "cell_type": "code",
      "source": [
        "#xgboost regression\n",
        "def gradient_boosting_regressor(xtrain_scaled,xtest_scaled,ytrain,ytest):\n",
        "  gb=GradientBoostingRegressor()\n",
        "  gb.fit(xtrain_scaled,ytrain)\n",
        "  ypred=(gb.predict(xtest_scaled))\n",
        "  score=r2_score(ytest,ypred)\n",
        "  rmse=np.sqrt(mean_squared_error(ytest,ypred))\n",
        "  print('***Gradient Boosting regressor model***')\n",
        "  print('Score for Gradient Boosting regressor model is {}'.format(score))\n",
        "  print('rmse for Gradient Boosting regressor model is {}'.format(rmse))"
      ],
      "metadata": {
        "id": "wv-Bsv30kc_y"
      },
      "execution_count": null,
      "outputs": []
    },
    {
      "cell_type": "code",
      "source": [
        "#compare the model\n",
        "def model_compare(xtrain_scaled,xtest_scaled,ytrain,ytest):\n",
        "  linear_reg(xtrain_scaled,xtest_scaled,ytrain,ytest)\n",
        "  print('-'*100)\n",
        "  random_forest_regressor(xtrain_scaled,xtest_scaled,ytrain,ytest)\n",
        "  print('-'*100)\n",
        "  gradient_boosting_regressor(xtrain_scaled,xtest_scaled,ytrain,ytest)\n",
        "  print('-'*100)"
      ],
      "metadata": {
        "id": "KNpGKWwzibOJ"
      },
      "execution_count": null,
      "outputs": []
    },
    {
      "cell_type": "code",
      "source": [
        "model_compare(xtrain_scaled,xtest_scaled,ytrain,ytest)"
      ],
      "metadata": {
        "colab": {
          "base_uri": "https://localhost:8080/"
        },
        "id": "3DuB0QkrkEpI",
        "outputId": "d04f6075-d213-4fde-ff8d-ad8c5e629234"
      },
      "execution_count": null,
      "outputs": [
        {
          "output_type": "stream",
          "name": "stdout",
          "text": [
            "***Linear regression model***\n",
            "Score for linear regression model is 0.47784477380544765\n",
            "rmse for linear regression model is 0.574125771758495\n",
            "----------------------------------------------------------------------------------------------------\n",
            "***Random Forest regressor model***\n",
            "Score for Random Forest regressor model is 0.8941369346104975\n",
            "rmse for Random Forest regressor model is 0.2585112575349553\n",
            "----------------------------------------------------------------------------------------------------\n",
            "***Gradient Boosting regressor model***\n",
            "Score for Gradient Boosting regressor model is 0.877853968570921\n",
            "rmse for Gradient Boosting regressor model is 0.27768147540624155\n",
            "----------------------------------------------------------------------------------------------------\n"
          ]
        }
      ]
    },
    {
      "cell_type": "code",
      "source": [
        "#save the model\n",
        "pickle.dump(df,open('model.pkl','wb'))"
      ],
      "metadata": {
        "id": "omtBBrdvkIcE"
      },
      "execution_count": null,
      "outputs": []
    },
    {
      "cell_type": "code",
      "source": [],
      "metadata": {
        "id": "nXCwovEDmnE8"
      },
      "execution_count": null,
      "outputs": []
    }
  ]
}